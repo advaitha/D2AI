{
  "nbformat": 4,
  "nbformat_minor": 0,
  "metadata": {
    "colab": {
      "name": "concise_implementation_linear_regression_tf.ipynb",
      "provenance": [],
      "authorship_tag": "ABX9TyMfXKCV4tL2dbQF+0cNsWoh",
      "include_colab_link": true
    },
    "kernelspec": {
      "name": "python3",
      "display_name": "Python 3"
    },
    "language_info": {
      "name": "python"
    }
  },
  "cells": [
    {
      "cell_type": "markdown",
      "metadata": {
        "id": "view-in-github",
        "colab_type": "text"
      },
      "source": [
        "<a href=\"https://colab.research.google.com/github/advaitha/D2AI/blob/main/concise_implementation_linear_regression_tf.ipynb\" target=\"_parent\"><img src=\"https://colab.research.google.com/assets/colab-badge.svg\" alt=\"Open In Colab\"/></a>"
      ]
    },
    {
      "cell_type": "code",
      "metadata": {
        "id": "qcV4vCWKM72R"
      },
      "source": [
        "def synthetic_data(w , b, num_examples):\n",
        "  X = tf.zeros((num_examples, w.shape[0]))\n",
        "  X += tf.random.normal(shape=X.shape)\n",
        "  y = tf.matmul(X,tf.reshape(w,(-1,1))) + b\n",
        "  y += tf.random.normal(shape = y.shape, stddev=0.01)\n",
        "  y = tf.reshape(y,(-1,1))\n",
        "  return X, y"
      ],
      "execution_count": 2,
      "outputs": []
    },
    {
      "cell_type": "code",
      "metadata": {
        "id": "NstGxxyNM8fP"
      },
      "source": [
        "import numpy as np\n",
        "import tensorflow as tf\n",
        "from d2l import tensorflow as d2l\n",
        "\n",
        "true_w = tf.constant([2,-3.4])\n",
        "true_b = 4.2\n",
        "features, labels = d2l.synthetic_data(true_w, true_b, 1000)"
      ],
      "execution_count": 5,
      "outputs": []
    },
    {
      "cell_type": "code",
      "metadata": {
        "id": "V1k4bwa8NGZf"
      },
      "source": [
        "# Load the dataset\n",
        "def load_array(data_arrays, batch_size, is_train=True):\n",
        "  dataset = tf.data.Dataset.from_tensor_slices(data_arrays)\n",
        "  if is_train:\n",
        "    dataset = dataset.shuffle(buffer_size=1000)\n",
        "  dataset = dataset.batch(batch_size)\n",
        "  return dataset\n",
        "\n",
        "batch_size = 10\n",
        "data_iter = load_array((features, labels), batch_size)"
      ],
      "execution_count": 6,
      "outputs": []
    },
    {
      "cell_type": "code",
      "metadata": {
        "colab": {
          "base_uri": "https://localhost:8080/"
        },
        "id": "D6UagzFeOcjC",
        "outputId": "459dab56-0586-426b-a386-8a11057d18d4"
      },
      "source": [
        "next(iter(data_iter))"
      ],
      "execution_count": 7,
      "outputs": [
        {
          "output_type": "execute_result",
          "data": {
            "text/plain": [
              "(<tf.Tensor: shape=(10, 2), dtype=float32, numpy=\n",
              " array([[-0.28774443, -0.20485936],\n",
              "        [ 1.003616  ,  0.16492677],\n",
              "        [-0.5845998 ,  2.876937  ],\n",
              "        [ 0.11662029,  0.54943293],\n",
              "        [-2.2438135 , -1.1620028 ],\n",
              "        [ 1.4517365 , -0.6686997 ],\n",
              "        [-1.0269731 ,  1.3693098 ],\n",
              "        [-0.75879145, -0.04185718],\n",
              "        [-0.9673758 , -0.23666677],\n",
              "        [ 0.02166146, -0.35773194]], dtype=float32)>,\n",
              " <tf.Tensor: shape=(10, 1), dtype=float32, numpy=\n",
              " array([[ 4.3197556],\n",
              "        [ 5.641314 ],\n",
              "        [-6.7631793],\n",
              "        [ 2.5761807],\n",
              "        [ 3.6753256],\n",
              "        [ 9.378376 ],\n",
              "        [-2.5116124],\n",
              "        [ 2.8393009],\n",
              "        [ 3.0700946],\n",
              "        [ 5.469989 ]], dtype=float32)>)"
            ]
          },
          "metadata": {
            "tags": []
          },
          "execution_count": 7
        }
      ]
    },
    {
      "cell_type": "code",
      "metadata": {
        "id": "y5YPp-XvQSeP"
      },
      "source": [
        "# No need to specify input shape to keras\n",
        "net = tf.keras.Sequential()\n",
        "net.add(tf.keras.layers.Dense(1))"
      ],
      "execution_count": 8,
      "outputs": []
    },
    {
      "cell_type": "code",
      "metadata": {
        "id": "Rbq-rlq2RW3w"
      },
      "source": [
        "# Initialize Model Parameters - Normal distribution with mean 0 and std. deviation 0.01\n",
        "initializer = tf.initializers.RandomNormal(stddev=0.01)\n",
        "net = tf.keras.Sequential()\n",
        "net.add(tf.keras.layers.Dense(1, kernel_initializer=initializer))"
      ],
      "execution_count": 9,
      "outputs": []
    },
    {
      "cell_type": "code",
      "metadata": {
        "id": "CRF5eYfNR8_l"
      },
      "source": [
        "# loss function\n",
        "loss = tf.keras.losses.MeanSquaredError()"
      ],
      "execution_count": 10,
      "outputs": []
    },
    {
      "cell_type": "code",
      "metadata": {
        "id": "4JHyZd68Sy60"
      },
      "source": [
        "trainer = tf.keras.optimizers.SGD(learning_rate=0.03)"
      ],
      "execution_count": 11,
      "outputs": []
    },
    {
      "cell_type": "code",
      "metadata": {
        "colab": {
          "base_uri": "https://localhost:8080/"
        },
        "id": "ckT2Vx88TC2z",
        "outputId": "15e8884d-ac92-4981-cce2-1d543b923d06"
      },
      "source": [
        "num_epochs = 3\n",
        "for epoch in range(num_epochs):\n",
        "  for X,y in data_iter:\n",
        "    with tf.GradientTape() as tape:\n",
        "      l = loss(net(X,training = True),y)\n",
        "    grads = tape.gradient(l,net.trainable_variables)\n",
        "    trainer.apply_gradients(zip(grads, net.trainable_variables))\n",
        "  l = loss(net(features),labels)\n",
        "  print(f'epoch {epoch + 1} , loss {l:f}')"
      ],
      "execution_count": 13,
      "outputs": [
        {
          "output_type": "stream",
          "text": [
            "epoch 1 , loss 0.000203\n",
            "epoch 2 , loss 0.000087\n",
            "epoch 3 , loss 0.000087\n"
          ],
          "name": "stdout"
        }
      ]
    },
    {
      "cell_type": "code",
      "metadata": {
        "colab": {
          "base_uri": "https://localhost:8080/"
        },
        "id": "0WGZOaULVOZ0",
        "outputId": "a7d93f5f-d82c-426e-aea8-f5c4e8ce08ad"
      },
      "source": [
        "# Access the layer and get the layer's weight\n",
        "w = net.get_weights()[0]\n",
        "print('error in estimating w', true_w - tf.reshape(w,true_w.shape))\n",
        "b = net.get_weights()[1]\n",
        "print('error in estimating b',true_b - b)"
      ],
      "execution_count": 14,
      "outputs": [
        {
          "output_type": "stream",
          "text": [
            "error in estimating w tf.Tensor([0.00017917 0.00034642], shape=(2,), dtype=float32)\n",
            "error in estimating b [-9.059906e-06]\n"
          ],
          "name": "stdout"
        }
      ]
    }
  ]
}