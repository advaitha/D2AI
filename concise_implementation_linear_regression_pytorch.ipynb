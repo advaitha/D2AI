{
  "nbformat": 4,
  "nbformat_minor": 0,
  "metadata": {
    "colab": {
      "name": "concise_implementation_linear_regression_pytorch.ipynb",
      "provenance": [],
      "authorship_tag": "ABX9TyNWP2PqEDtSyzmtuXcHK75a",
      "include_colab_link": true
    },
    "kernelspec": {
      "name": "python3",
      "display_name": "Python 3"
    },
    "language_info": {
      "name": "python"
    }
  },
  "cells": [
    {
      "cell_type": "markdown",
      "metadata": {
        "id": "view-in-github",
        "colab_type": "text"
      },
      "source": [
        "<a href=\"https://colab.research.google.com/github/advaitha/D2AI/blob/main/concise_implementation_linear_regression_pytorch.ipynb\" target=\"_parent\"><img src=\"https://colab.research.google.com/assets/colab-badge.svg\" alt=\"Open In Colab\"/></a>"
      ]
    },
    {
      "cell_type": "code",
      "metadata": {
        "id": "4zwNOUsDX5WT"
      },
      "source": [
        "# Generate synthetic data\n",
        "def synthetic_data(w , b, num_examples):\n",
        "  X = tf.zeros((num_examples, w.shape[0]))\n",
        "  X += tf.random.normal(shape=X.shape)\n",
        "  y = tf.matmul(X,tf.reshape(w,(-1,1))) + b\n",
        "  y += tf.random.normal(shape = y.shape, stddev=0.01)\n",
        "  y = tf.reshape(y,(-1,1))\n",
        "  return X, y"
      ],
      "execution_count": 2,
      "outputs": []
    },
    {
      "cell_type": "code",
      "metadata": {
        "id": "8TePRStTW7E3"
      },
      "source": [
        "import numpy as np\n",
        "import torch\n",
        "from torch.utils import data\n",
        "from d2l import torch as d2l\n",
        "\n",
        "true_w = torch.tensor([2,-3.4])\n",
        "true_b = 4.2\n",
        "features, labels = d2l.synthetic_data(true_w, true_b, 1000)"
      ],
      "execution_count": 3,
      "outputs": []
    },
    {
      "cell_type": "code",
      "metadata": {
        "id": "5kBbbzbZYHgd"
      },
      "source": [
        "def load_array(data_arrays, batch_size, is_train=True):\n",
        "  dataset = data.TensorDataset(*data_arrays)\n",
        "  return data.DataLoader(dataset, batch_size, shuffle=is_train)\n",
        "\n",
        "batch_size = 10\n",
        "data_iter = load_array((features, labels),batch_size)"
      ],
      "execution_count": 4,
      "outputs": []
    },
    {
      "cell_type": "code",
      "metadata": {
        "colab": {
          "base_uri": "https://localhost:8080/"
        },
        "id": "jNS12ZigZC0Z",
        "outputId": "f68ab0ce-60e2-491e-dee6-e4a5a26bd388"
      },
      "source": [
        "next(iter(data_iter))"
      ],
      "execution_count": 5,
      "outputs": [
        {
          "output_type": "execute_result",
          "data": {
            "text/plain": [
              "[tensor([[-0.1156,  0.6893],\n",
              "         [ 0.8468,  0.5378],\n",
              "         [-0.4924, -0.5924],\n",
              "         [-0.0297, -0.9260],\n",
              "         [-0.0375, -0.2161],\n",
              "         [-0.0624,  0.3900],\n",
              "         [-0.6650,  0.6302],\n",
              "         [ 0.2089,  0.3260],\n",
              "         [-0.2963, -1.8950],\n",
              "         [-1.4784,  0.6123]]), tensor([[ 1.6311],\n",
              "         [ 4.0648],\n",
              "         [ 5.2166],\n",
              "         [ 7.2866],\n",
              "         [ 4.8541],\n",
              "         [ 2.7461],\n",
              "         [ 0.7169],\n",
              "         [ 3.5268],\n",
              "         [10.0577],\n",
              "         [-0.8407]])]"
            ]
          },
          "metadata": {
            "tags": []
          },
          "execution_count": 5
        }
      ]
    },
    {
      "cell_type": "code",
      "metadata": {
        "id": "-_phOZIWZFvi"
      },
      "source": [
        "# Define the model\n",
        "from torch import nn\n",
        "net = nn.Sequential(nn.Linear(2,1))"
      ],
      "execution_count": 6,
      "outputs": []
    },
    {
      "cell_type": "code",
      "metadata": {
        "colab": {
          "base_uri": "https://localhost:8080/"
        },
        "id": "NEGbbEwJZtP0",
        "outputId": "ea3f0b5d-c59f-4c16-92f4-ca9ab667d66e"
      },
      "source": [
        "# Initialize the weights\n",
        "net[0].weight.data.normal_(0,0.01)\n",
        "net[0].bias.data.fill_(0)"
      ],
      "execution_count": 7,
      "outputs": [
        {
          "output_type": "execute_result",
          "data": {
            "text/plain": [
              "tensor([0.])"
            ]
          },
          "metadata": {
            "tags": []
          },
          "execution_count": 7
        }
      ]
    },
    {
      "cell_type": "code",
      "metadata": {
        "id": "guIQAZzvaiSP"
      },
      "source": [
        "# Loss function\n",
        "loss = nn.MSELoss()"
      ],
      "execution_count": 8,
      "outputs": []
    },
    {
      "cell_type": "code",
      "metadata": {
        "id": "8HVV7PWBavw3"
      },
      "source": [
        "# optimization Algorithm\n",
        "trainer = torch.optim.SGD(net.parameters(),lr=0.03)"
      ],
      "execution_count": 9,
      "outputs": []
    },
    {
      "cell_type": "code",
      "metadata": {
        "colab": {
          "base_uri": "https://localhost:8080/"
        },
        "id": "LX6Ir__2bKq0",
        "outputId": "f89b1ca3-a495-417a-8866-8070724db79e"
      },
      "source": [
        "num_epochs = 3\n",
        "for epoch in range(num_epochs):\n",
        "  for X,y in data_iter:\n",
        "    l = loss(net(X), y)\n",
        "    trainer.zero_grad()\n",
        "    l.backward()\n",
        "    trainer.step()\n",
        "  l = loss(net(features),labels)\n",
        "  print(f'epoch {epoch +1}, loss {l:f}')"
      ],
      "execution_count": 11,
      "outputs": [
        {
          "output_type": "stream",
          "text": [
            "epoch 1, loss 0.000097\n",
            "epoch 2, loss 0.000097\n",
            "epoch 3, loss 0.000098\n"
          ],
          "name": "stdout"
        }
      ]
    },
    {
      "cell_type": "code",
      "metadata": {
        "colab": {
          "base_uri": "https://localhost:8080/"
        },
        "id": "bbxU8cH-cGlV",
        "outputId": "d7b83ee4-9cd5-423c-994e-ea337d4f9a3d"
      },
      "source": [
        "# Get the weights\n",
        "w = net[0].weight.data\n",
        "print('error in estimating w:', true_w - w.reshape(true_w.shape))\n",
        "b = net[0].bias.data\n",
        "print('error in estimating b:', true_b - b)"
      ],
      "execution_count": 13,
      "outputs": [
        {
          "output_type": "stream",
          "text": [
            "error in estimating w: tensor([ 0.0005, -0.0001])\n",
            "error in estimating b: tensor([0.0001])\n"
          ],
          "name": "stdout"
        }
      ]
    },
    {
      "cell_type": "code",
      "metadata": {
        "id": "-3JAFw2nck0x"
      },
      "source": [
        ""
      ],
      "execution_count": null,
      "outputs": []
    }
  ]
}